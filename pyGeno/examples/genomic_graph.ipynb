{
 "cells": [
  {
   "cell_type": "code",
   "execution_count": 1,
   "metadata": {},
   "outputs": [],
   "source": [
    "import pyGeno.Genome as pgg\n",
    "import pyGeno.tools.UsefulFunctions as uf"
   ]
  },
  {
   "cell_type": "markdown",
   "metadata": {},
   "source": [
    "## Initialize genome and select gene"
   ]
  },
  {
   "cell_type": "code",
   "execution_count": 2,
   "metadata": {},
   "outputs": [],
   "source": [
    "genome_name = 'GRCh38.98'\n",
    "gene_name = 'POMP'"
   ]
  },
  {
   "cell_type": "code",
   "execution_count": 3,
   "metadata": {},
   "outputs": [
    {
     "name": "stdout",
     "output_type": "stream",
     "text": [
      "CPU times: user 1.91 ms, sys: 0 ns, total: 1.91 ms\n",
      "Wall time: 15.8 ms\n"
     ]
    }
   ],
   "source": [
    "%%time\n",
    "ref = pgg.Genome(name=genome_name)\n",
    "gene = ref.get(pgg.Gene, name=gene_name, gen=False)[0]  # gen=False returns list, not generator"
   ]
  },
  {
   "cell_type": "code",
   "execution_count": 4,
   "metadata": {},
   "outputs": [
    {
     "name": "stdout",
     "output_type": "stream",
     "text": [
      "Strand: +\n"
     ]
    }
   ],
   "source": [
    "print('Strand:', gene.strand)"
   ]
  },
  {
   "cell_type": "markdown",
   "metadata": {},
   "source": [
    "## From transcripts to exons"
   ]
  },
  {
   "cell_type": "code",
   "execution_count": 5,
   "metadata": {},
   "outputs": [
    {
     "name": "stdout",
     "output_type": "stream",
     "text": [
      "ENST00000460403\n",
      "    > ENSE00003538396\n",
      "    > ENSE00001927741\n",
      "    > ENSE00003641576\n",
      "    > ENSE00003658469\n",
      "    > ENSE00003634423\n",
      "    > ENSE00003676638\n",
      "    > ENSE00003621088\n",
      "ENST00000380842\n",
      "    > ENSE00003667813\n",
      "    > ENSE00003577317\n",
      "    > ENSE00003620057\n",
      "    > ENSE00003521643\n",
      "    > ENSE00003676638\n",
      "    > ENSE00003849438\n",
      "CPU times: user 13.5 ms, sys: 1.94 ms, total: 15.4 ms\n",
      "Wall time: 48.1 ms\n"
     ]
    }
   ],
   "source": [
    "%%time\n",
    "for transcript in gene.get(pgg.Transcript):\n",
    "    print(transcript.id)\n",
    "    for exon in transcript.get(pgg.Exon, gen=True):\n",
    "        print(\"    >\", exon.id)"
   ]
  },
  {
   "cell_type": "markdown",
   "metadata": {},
   "source": [
    "## From exons to transcripts"
   ]
  },
  {
   "cell_type": "code",
   "execution_count": 6,
   "metadata": {},
   "outputs": [
    {
     "data": {
      "text/plain": [
       "{'CDS': defaultdict(list,\n",
       "             {'ENSE00003634423': ['ENST00000460403'],\n",
       "              'ENSE00003676638': ['ENST00000460403', 'ENST00000380842'],\n",
       "              'ENSE00003621088': ['ENST00000460403'],\n",
       "              'ENSE00003667813': ['ENST00000380842'],\n",
       "              'ENSE00003577317': ['ENST00000380842'],\n",
       "              'ENSE00003620057': ['ENST00000380842'],\n",
       "              'ENSE00003521643': ['ENST00000380842'],\n",
       "              'ENSE00003849438': ['ENST00000380842']}),\n",
       " 'NotCDS': defaultdict(list,\n",
       "             {'ENSE00003538396': ['ENST00000460403'],\n",
       "              'ENSE00001927741': ['ENST00000460403'],\n",
       "              'ENSE00003641576': ['ENST00000460403'],\n",
       "              'ENSE00003658469': ['ENST00000460403']})}"
      ]
     },
     "execution_count": 6,
     "metadata": {},
     "output_type": "execute_result"
    }
   ],
   "source": [
    "from collections import defaultdict\n",
    "exon_dict = {'CDS': defaultdict(list), 'NotCDS': defaultdict(list)}\n",
    "for exon in gene.get(pgg.Exon, gen=True):\n",
    "    exon_dict['CDS' if exon.hasCDS() else 'NotCDS'][exon.id].append(exon.transcript.id)\n",
    "exon_dict"
   ]
  },
  {
   "cell_type": "markdown",
   "metadata": {},
   "source": [
    "## Choose a coding exon"
   ]
  },
  {
   "cell_type": "code",
   "execution_count": 7,
   "metadata": {},
   "outputs": [],
   "source": [
    "# choose a coding exon\n",
    "exon_id = list(exon_dict['CDS'].keys())[0]\n",
    "exon = gene.get(pgg.Exon, id=exon_id, gen=False)[0]"
   ]
  },
  {
   "cell_type": "markdown",
   "metadata": {},
   "source": [
    "### Peep into the object structure"
   ]
  },
  {
   "cell_type": "code",
   "execution_count": 8,
   "metadata": {},
   "outputs": [
    {
     "name": "stdout",
     "output_type": "stream",
     "text": [
      "UTR5: TTCCAGCTCAACCAAGATAAA\n",
      "CDS: ATGAATTTTTCCACACTGAGAAACATTCAGGGTCTATTTGCTCCGCTAAAATTACAGATGGAATTCAAGGCAGTGCAGCAG\n",
      "UTR3: \n",
      "\n",
      "sequence: TTCCAGCTCAACCAAGATAAAATGAATTTTTCCACACTGAGAAACATTCAGGGTCTATTTGCTCCGCTAAAATTACAGATGGAATTCAAGGCAGTGCAGCAG\n"
     ]
    }
   ],
   "source": [
    "print('UTR5:', exon.UTR5)\n",
    "print('CDS:', exon.CDS) \n",
    "print('UTR3:', exon.UTR3)\n",
    "print()\n",
    "print('sequence:', exon.sequence)\n",
    "\n",
    "assert exon.sequence == ''.join(exon.UTR5 + exon.CDS + exon.UTR3)"
   ]
  },
  {
   "cell_type": "markdown",
   "metadata": {},
   "source": [
    "### Translate in 6 frames"
   ]
  },
  {
   "cell_type": "code",
   "execution_count": 9,
   "metadata": {},
   "outputs": [
    {
     "data": {
      "text/plain": [
       "('MNFSTLRNIQGLFAPLKLQMEFKAVQQ',\n",
       " '*IFPH*ETFRVYLLR*NYRWNSRQCS',\n",
       " 'EFFHTEKHSGSICSAKITDGIQGSAA',\n",
       " 'LLHCLEFHL*F*RSK*TLNVSQCGKIH',\n",
       " 'CCTALNSICNFSGANRP*MFLSVEKF',\n",
       " 'AALP*IPSVILAEQIDPECFSVWKNS')"
      ]
     },
     "execution_count": 9,
     "metadata": {},
     "output_type": "execute_result"
    }
   ],
   "source": [
    "uf.translateDNA_6Frames(exon.CDS)"
   ]
  },
  {
   "cell_type": "markdown",
   "metadata": {},
   "source": [
    "### Easily get the protein sequence corresponding to the transcript containing that exon"
   ]
  },
  {
   "cell_type": "code",
   "execution_count": 10,
   "metadata": {},
   "outputs": [
    {
     "data": {
      "text/plain": [
       "'MNFSTLRNIQGLFAPLKLQMEFKAVQQVQRLPFLSSSNLSLDVLRGNDETIGFEDILNDPSQSEVMGEPHLMVEYKLGLL'"
      ]
     },
     "execution_count": 10,
     "metadata": {},
     "output_type": "execute_result"
    }
   ],
   "source": [
    "exon.transcript.protein.sequence"
   ]
  }
 ],
 "metadata": {
  "kernelspec": {
   "display_name": "pygeno (Python 3.7.1)",
   "language": "python",
   "name": "pygeno-python3.7.1"
  },
  "language_info": {
   "codemirror_mode": {
    "name": "ipython",
    "version": 3
   },
   "file_extension": ".py",
   "mimetype": "text/x-python",
   "name": "python",
   "nbconvert_exporter": "python",
   "pygments_lexer": "ipython3",
   "version": "3.7.1"
  }
 },
 "nbformat": 4,
 "nbformat_minor": 4
}
